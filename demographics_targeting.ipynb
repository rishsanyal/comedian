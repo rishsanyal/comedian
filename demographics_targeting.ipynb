{
 "cells": [
  {
   "cell_type": "code",
   "execution_count": 11,
   "metadata": {},
   "outputs": [
    {
     "data": {
      "text/html": [
       "<div>\n",
       "<style scoped>\n",
       "    .dataframe tbody tr th:only-of-type {\n",
       "        vertical-align: middle;\n",
       "    }\n",
       "\n",
       "    .dataframe tbody tr th {\n",
       "        vertical-align: top;\n",
       "    }\n",
       "\n",
       "    .dataframe thead th {\n",
       "        text-align: right;\n",
       "    }\n",
       "</style>\n",
       "<table border=\"1\" class=\"dataframe\">\n",
       "  <thead>\n",
       "    <tr style=\"text-align: right;\">\n",
       "      <th></th>\n",
       "      <th>joke_id</th>\n",
       "      <th>USF1000_rating</th>\n",
       "      <th>USF1001_rating</th>\n",
       "      <th>USF1002_rating</th>\n",
       "      <th>datasource_joke_id</th>\n",
       "      <th>jokeText</th>\n",
       "      <th>jester</th>\n",
       "      <th>reddit</th>\n",
       "      <th>stupidstuff</th>\n",
       "      <th>toxic</th>\n",
       "      <th>...</th>\n",
       "      <th>sexist</th>\n",
       "      <th>age_24</th>\n",
       "      <th>age_26</th>\n",
       "      <th>gender_Female</th>\n",
       "      <th>gender_Male</th>\n",
       "      <th>ethnicity_Middle Eastern</th>\n",
       "      <th>ethnicity_South East Asian</th>\n",
       "      <th>country_India</th>\n",
       "      <th>country_Iran</th>\n",
       "      <th>location_San Francisco</th>\n",
       "    </tr>\n",
       "  </thead>\n",
       "  <tbody>\n",
       "    <tr>\n",
       "      <th>0</th>\n",
       "      <td>RE5tz52q</td>\n",
       "      <td>1</td>\n",
       "      <td>8</td>\n",
       "      <td>0</td>\n",
       "      <td>5tz52q</td>\n",
       "      <td>I hate how you cant even say black paint anymo...</td>\n",
       "      <td>0</td>\n",
       "      <td>1</td>\n",
       "      <td>0</td>\n",
       "      <td>0.948757</td>\n",
       "      <td>...</td>\n",
       "      <td>0.009227</td>\n",
       "      <td>0.033333</td>\n",
       "      <td>0.266667</td>\n",
       "      <td>0.033333</td>\n",
       "      <td>0.266667</td>\n",
       "      <td>0.000000</td>\n",
       "      <td>0.300000</td>\n",
       "      <td>0.300000</td>\n",
       "      <td>0.000000</td>\n",
       "      <td>0.300000</td>\n",
       "    </tr>\n",
       "    <tr>\n",
       "      <th>1</th>\n",
       "      <td>RE5tz4dd</td>\n",
       "      <td>1</td>\n",
       "      <td>8</td>\n",
       "      <td>0</td>\n",
       "      <td>5tz4dd</td>\n",
       "      <td>What's the difference between a Jew in Nazi Ge...</td>\n",
       "      <td>0</td>\n",
       "      <td>1</td>\n",
       "      <td>0</td>\n",
       "      <td>0.740485</td>\n",
       "      <td>...</td>\n",
       "      <td>0.010509</td>\n",
       "      <td>0.033333</td>\n",
       "      <td>0.266667</td>\n",
       "      <td>0.033333</td>\n",
       "      <td>0.266667</td>\n",
       "      <td>0.000000</td>\n",
       "      <td>0.300000</td>\n",
       "      <td>0.300000</td>\n",
       "      <td>0.000000</td>\n",
       "      <td>0.300000</td>\n",
       "    </tr>\n",
       "    <tr>\n",
       "      <th>2</th>\n",
       "      <td>RE5tz319</td>\n",
       "      <td>0</td>\n",
       "      <td>9</td>\n",
       "      <td>8</td>\n",
       "      <td>5tz319</td>\n",
       "      <td>I recently went to America....\\n...and being t...</td>\n",
       "      <td>0</td>\n",
       "      <td>1</td>\n",
       "      <td>0</td>\n",
       "      <td>0.713800</td>\n",
       "      <td>...</td>\n",
       "      <td>0.008724</td>\n",
       "      <td>0.000000</td>\n",
       "      <td>0.566667</td>\n",
       "      <td>0.266667</td>\n",
       "      <td>0.300000</td>\n",
       "      <td>0.266667</td>\n",
       "      <td>0.300000</td>\n",
       "      <td>0.300000</td>\n",
       "      <td>0.266667</td>\n",
       "      <td>0.566667</td>\n",
       "    </tr>\n",
       "    <tr>\n",
       "      <th>3</th>\n",
       "      <td>RE5tz2wj</td>\n",
       "      <td>3</td>\n",
       "      <td>9</td>\n",
       "      <td>0</td>\n",
       "      <td>5tz2wj</td>\n",
       "      <td>Brian raises his hand and says, “He’s in Heave...</td>\n",
       "      <td>0</td>\n",
       "      <td>1</td>\n",
       "      <td>0</td>\n",
       "      <td>0.863763</td>\n",
       "      <td>...</td>\n",
       "      <td>0.010060</td>\n",
       "      <td>0.100000</td>\n",
       "      <td>0.300000</td>\n",
       "      <td>0.100000</td>\n",
       "      <td>0.300000</td>\n",
       "      <td>0.000000</td>\n",
       "      <td>0.400000</td>\n",
       "      <td>0.400000</td>\n",
       "      <td>0.000000</td>\n",
       "      <td>0.400000</td>\n",
       "    </tr>\n",
       "    <tr>\n",
       "      <th>4</th>\n",
       "      <td>RE5tz1pc</td>\n",
       "      <td>5</td>\n",
       "      <td>3</td>\n",
       "      <td>8</td>\n",
       "      <td>5tz1pc</td>\n",
       "      <td>You hear about the University book store worke...</td>\n",
       "      <td>0</td>\n",
       "      <td>1</td>\n",
       "      <td>0</td>\n",
       "      <td>0.556188</td>\n",
       "      <td>...</td>\n",
       "      <td>0.006886</td>\n",
       "      <td>0.166667</td>\n",
       "      <td>0.366667</td>\n",
       "      <td>0.433333</td>\n",
       "      <td>0.100000</td>\n",
       "      <td>0.266667</td>\n",
       "      <td>0.266667</td>\n",
       "      <td>0.266667</td>\n",
       "      <td>0.266667</td>\n",
       "      <td>0.533333</td>\n",
       "    </tr>\n",
       "  </tbody>\n",
       "</table>\n",
       "<p>5 rows × 33 columns</p>\n",
       "</div>"
      ],
      "text/plain": [
       "    joke_id  USF1000_rating  USF1001_rating  USF1002_rating   \n",
       "0  RE5tz52q               1               8               0  \\\n",
       "1  RE5tz4dd               1               8               0   \n",
       "2  RE5tz319               0               9               8   \n",
       "3  RE5tz2wj               3               9               0   \n",
       "4  RE5tz1pc               5               3               8   \n",
       "\n",
       "  datasource_joke_id                                           jokeText   \n",
       "0             5tz52q  I hate how you cant even say black paint anymo...  \\\n",
       "1             5tz4dd  What's the difference between a Jew in Nazi Ge...   \n",
       "2             5tz319  I recently went to America....\\n...and being t...   \n",
       "3             5tz2wj  Brian raises his hand and says, “He’s in Heave...   \n",
       "4             5tz1pc  You hear about the University book store worke...   \n",
       "\n",
       "   jester  reddit  stupidstuff     toxic  ...    sexist    age_24    age_26   \n",
       "0       0       1            0  0.948757  ...  0.009227  0.033333  0.266667  \\\n",
       "1       0       1            0  0.740485  ...  0.010509  0.033333  0.266667   \n",
       "2       0       1            0  0.713800  ...  0.008724  0.000000  0.566667   \n",
       "3       0       1            0  0.863763  ...  0.010060  0.100000  0.300000   \n",
       "4       0       1            0  0.556188  ...  0.006886  0.166667  0.366667   \n",
       "\n",
       "   gender_Female  gender_Male  ethnicity_Middle Eastern   \n",
       "0       0.033333     0.266667                  0.000000  \\\n",
       "1       0.033333     0.266667                  0.000000   \n",
       "2       0.266667     0.300000                  0.266667   \n",
       "3       0.100000     0.300000                  0.000000   \n",
       "4       0.433333     0.100000                  0.266667   \n",
       "\n",
       "   ethnicity_South East Asian  country_India  country_Iran   \n",
       "0                    0.300000       0.300000      0.000000  \\\n",
       "1                    0.300000       0.300000      0.000000   \n",
       "2                    0.300000       0.300000      0.266667   \n",
       "3                    0.400000       0.400000      0.000000   \n",
       "4                    0.266667       0.266667      0.266667   \n",
       "\n",
       "   location_San Francisco  \n",
       "0                0.300000  \n",
       "1                0.300000  \n",
       "2                0.566667  \n",
       "3                0.400000  \n",
       "4                0.533333  \n",
       "\n",
       "[5 rows x 33 columns]"
      ]
     },
     "execution_count": 11,
     "metadata": {},
     "output_type": "execute_result"
    }
   ],
   "source": [
    "## Random Forest Classifier on our dataset\n",
    "\n",
    "import pandas as pd\n",
    "import numpy as np\n",
    "\n",
    "df = pd.read_json('datasets/final_user_joke_dataset.json')\n",
    "\n",
    "df.head()\n",
    "\n"
   ]
  },
  {
   "cell_type": "code",
   "execution_count": 12,
   "metadata": {},
   "outputs": [
    {
     "data": {
      "text/plain": [
       "['age_26',\n",
       " 'gender_Male',\n",
       " 'ethnicity_South East Asian',\n",
       " 'country_Iran',\n",
       " 'location_San Francisco']"
      ]
     },
     "execution_count": 12,
     "metadata": {},
     "output_type": "execute_result"
    }
   ],
   "source": [
    "curr_user_traits = {\n",
    "    \"age\": 26,\n",
    "    \"gender\": \"Male\",\n",
    "    \"ethnicity\": \"South East Asian\",\n",
    "    \"country\": \"Iran\",\n",
    "    \"location\" : \"San Francisco\"\n",
    "}\n",
    "\n",
    "\n",
    "col_names_to_use = [ str(key) + '_' + str(value) for key, value in curr_user_traits.items()]\n",
    "\n",
    "# col_names_to_use = set(col_names_to_use) - set(df.columns)\n",
    "\n",
    "# col_names_to_use = list(col_names_to_use)\n",
    "\n",
    "col_names_to_use\n"
   ]
  },
  {
   "cell_type": "code",
   "execution_count": 13,
   "metadata": {},
   "outputs": [
    {
     "data": {
      "text/plain": [
       "Index(['joke_id', 'USF1000_rating', 'USF1001_rating', 'USF1002_rating',\n",
       "       'datasource_joke_id', 'jokeText', 'jester', 'reddit', 'stupidstuff',\n",
       "       'toxic', 'severe_toxic', 'obscene', 'threat', 'insult', 'identity_hate',\n",
       "       'anger', 'disgust', 'fear', 'joy', 'neutral', 'sadness', 'surprise',\n",
       "       'misogynist', 'sexist', 'age_24', 'age_26', 'gender_Female',\n",
       "       'gender_Male', 'ethnicity_Middle Eastern', 'ethnicity_South East Asian',\n",
       "       'country_India', 'country_Iran', 'location_San Francisco'],\n",
       "      dtype='object')"
      ]
     },
     "execution_count": 13,
     "metadata": {},
     "output_type": "execute_result"
    }
   ],
   "source": [
    "df.columns"
   ]
  },
  {
   "cell_type": "code",
   "execution_count": 14,
   "metadata": {},
   "outputs": [],
   "source": [
    "for col in col_names_to_use:\n",
    "    result_df = df[df[col] > 0.5]\n",
    "\n",
    "# result_df['USF1002_rating'] = result_df['USF1002_rating'].apply(lambda x: 1 if x > 6 else 0)"
   ]
  },
  {
   "cell_type": "code",
   "execution_count": 15,
   "metadata": {},
   "outputs": [
    {
     "data": {
      "text/plain": [
       "2       8\n",
       "4       8\n",
       "7       9\n",
       "21     10\n",
       "24      5\n",
       "       ..\n",
       "181     8\n",
       "182     0\n",
       "183     5\n",
       "184     0\n",
       "186     4\n",
       "Name: USF1002_rating, Length: 93, dtype: int64"
      ]
     },
     "execution_count": 15,
     "metadata": {},
     "output_type": "execute_result"
    }
   ],
   "source": [
    "result_df['USF1002_rating']"
   ]
  },
  {
   "cell_type": "code",
   "execution_count": 16,
   "metadata": {},
   "outputs": [],
   "source": [
    "columns_to_keep = col_names_to_use\n",
    "\n",
    "columns_to_keep.extend([\n",
    "    # 'USF1000_rating', \n",
    "    # 'USF1001_rating', \n",
    "    # 'USF1002_rating',\n",
    "    # \"jester\",\n",
    "    # \"reddit\",\n",
    "    # \"stupidstuff\",\n",
    "    # 'joke_id',\n",
    "    # 'jokeText', \n",
    "    'jester', \n",
    "    'reddit', \n",
    "    'stupidstuff',\n",
    "    'toxic', \n",
    "    'severe_toxic', \n",
    "    'obscene', \n",
    "    'threat', \n",
    "    'insult', \n",
    "    'identity_hate',\n",
    "    'anger', \n",
    "    'disgust', \n",
    "    'fear', \n",
    "    'joy', \n",
    "    'neutral', \n",
    "    'sadness', \n",
    "    'surprise',\n",
    "    'misogynist', \n",
    "    'sexist', \n",
    "])\n",
    "\n",
    "# label_df = temp_df['USF1002_rating'].apply(lambda x: 1 if x > 0.5 else 0)\n",
    "\n",
    "# result_df = result_df[result_df['USF1002_rating']]\n",
    "\n",
    "label_df = result_df['USF1002_rating']\n",
    "\n",
    "result_df = result_df[columns_to_keep]"
   ]
  },
  {
   "cell_type": "code",
   "execution_count": 17,
   "metadata": {},
   "outputs": [],
   "source": [
    "from sklearn.model_selection import train_test_split\n",
    "\n",
    "X_train, X_test, y_train, y_test = train_test_split(result_df, label_df , test_size=0.2, random_state=42)"
   ]
  },
  {
   "cell_type": "code",
   "execution_count": 18,
   "metadata": {},
   "outputs": [
    {
     "name": "stdout",
     "output_type": "stream",
     "text": [
      "{'criterion': 'squared_error', 'max_depth': 5, 'n_estimators': 50}\n"
     ]
    }
   ],
   "source": [
    "from sklearn.model_selection import GridSearchCV\n",
    "from sklearn.ensemble import RandomForestRegressor, RandomForestClassifier\n",
    "\n",
    "\n",
    "# params = {'max_depth': [3, 4, 5], # Go smaller\n",
    "#           'criterion': ['entropy', 'gini'],\n",
    "#           'n_estimators': [115, 130, 150], # Go smaller, 3/5/10,x,\n",
    "#           'max_features': [None]\n",
    "#         }\n",
    "\n",
    "# params = {'max_depth': [None, 5, 10, 20, 30], \n",
    "#           'criterion': ['absolute_error', 'squared_error'],\n",
    "#           'n_estimators': [115, 130, 150, 200], \n",
    "#           'max_features': [None, 'log2']\n",
    "#         }\n",
    "\n",
    "params = {'max_depth': [5, 10, 9],\n",
    "          'criterion': ['squared_error'],\n",
    "          'n_estimators': [50, 150, 200]\n",
    "        }\n",
    "\n",
    "\n",
    "folds = 5\n",
    "rf = RandomForestRegressor()\n",
    "\n",
    "clf = GridSearchCV(rf, params, cv=folds, n_jobs=-1)\n",
    "\n",
    "clf.fit(X_train, y_train)\n",
    "print(clf.best_params_)"
   ]
  },
  {
   "cell_type": "code",
   "execution_count": 19,
   "metadata": {},
   "outputs": [
    {
     "name": "stdout",
     "output_type": "stream",
     "text": [
      "Accuracy-> 0.9595838622915546\n"
     ]
    }
   ],
   "source": [
    "from sklearn.ensemble import RandomForestRegressor, RandomForestClassifier\n",
    "\n",
    "# Train the model with the best parameters obtained\n",
    "\n",
    "from sklearn.metrics import mean_squared_error\n",
    "from sklearn.metrics import r2_score\n",
    "\n",
    "rf = RandomForestRegressor(**clf.best_params_, random_state=42, n_jobs=-1, oob_score=True)\n",
    "\n",
    "rf.fit(X_train, y_train)\n",
    "y_pred = rf.predict(X_test)\n",
    "\n",
    "accuracy = rf.score(X_test, y_test)\n",
    "print(\"Accuracy->\", accuracy)"
   ]
  },
  {
   "cell_type": "code",
   "execution_count": 14,
   "metadata": {},
   "outputs": [],
   "source": [
    "# # implent K-Nearest Neighbors classifier (KNN) algorithm to predict the rating of a joke for a user\n",
    "\n",
    "# from sklearn.neighbors import KNeighborsClassifier\n",
    "\n",
    "# knn = KNeighborsClassifier(n_neighbors=5)\n",
    "\n",
    "# knn.fit(X_train, y_train)\n",
    "\n",
    "# y_pred = knn.predict(X_test)\n",
    "\n",
    "# accuracy = knn.score(X_test, y_test)\n",
    "\n",
    "# print(\"Accuracy->\", accuracy)"
   ]
  },
  {
   "cell_type": "code",
   "execution_count": 15,
   "metadata": {},
   "outputs": [],
   "source": [
    "# # implement gradient boosting classifier (GBC) algorithm to predict the rating of a joke for a user\n",
    "\n",
    "# from sklearn.ensemble import GradientBoostingClassifier\n",
    "\n",
    "# gbc = GradientBoostingClassifier(n_estimators=100, learning_rate=1.0, max_depth=1, random_state=0)\n",
    "\n",
    "# gbc.fit(X_train, y_train)"
   ]
  },
  {
   "cell_type": "code",
   "execution_count": 20,
   "metadata": {},
   "outputs": [
    {
     "name": "stdout",
     "output_type": "stream",
     "text": [
      "MSE-> 10.193684210526316\n",
      "Accuracy-> 0.010242065626680952\n"
     ]
    }
   ],
   "source": [
    "# implent K-Nearest Neighbors regressor (KNN) algorithm to predict the rating of a joke for a user\n",
    "\n",
    "from sklearn.neighbors import KNeighborsRegressor\n",
    "\n",
    "knn = KNeighborsRegressor(n_neighbors=5)\n",
    "\n",
    "knn.fit(X_train, y_train)\n",
    "\n",
    "y_pred = knn.predict(X_test)\n",
    "\n",
    "mse = mean_squared_error(y_test, y_pred)\n",
    "\n",
    "print(\"MSE->\", mse)\n",
    "\n",
    "accuracy = knn.score(X_test, y_test)\n",
    "\n",
    "print(\"Accuracy->\", accuracy)"
   ]
  },
  {
   "cell_type": "code",
   "execution_count": 21,
   "metadata": {},
   "outputs": [
    {
     "name": "stdout",
     "output_type": "stream",
     "text": [
      "MSE-> 0.4387490274709753\n",
      "Accuracy-> 0.9573995699523878\n"
     ]
    }
   ],
   "source": [
    "# Implement Gradient Boosting Regressor\n",
    "\n",
    "from sklearn.ensemble import GradientBoostingRegressor\n",
    "\n",
    "gbr = GradientBoostingRegressor()\n",
    "\n",
    "gbr.fit(X_train, y_train)\n",
    "\n",
    "y_pred = gbr.predict(X_test)\n",
    "\n",
    "mse = mean_squared_error(y_test, y_pred)\n",
    "\n",
    "print(\"MSE->\", mse)\n",
    "\n",
    "accuracy = gbr.score(X_test, y_test)\n",
    "\n",
    "print(\"Accuracy->\", accuracy)"
   ]
  },
  {
   "cell_type": "code",
   "execution_count": null,
   "metadata": {},
   "outputs": [],
   "source": []
  }
 ],
 "metadata": {
  "kernelspec": {
   "display_name": "Python 3",
   "language": "python",
   "name": "python3"
  },
  "language_info": {
   "codemirror_mode": {
    "name": "ipython",
    "version": 3
   },
   "file_extension": ".py",
   "mimetype": "text/x-python",
   "name": "python",
   "nbconvert_exporter": "python",
   "pygments_lexer": "ipython3",
   "version": "3.9.6"
  },
  "orig_nbformat": 4
 },
 "nbformat": 4,
 "nbformat_minor": 2
}
